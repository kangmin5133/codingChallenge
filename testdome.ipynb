{
 "cells": [
  {
   "cell_type": "code",
   "execution_count": 1,
   "metadata": {},
   "outputs": [
    {
     "name": "stdout",
     "output_type": "stream",
     "text": [
      "True\n",
      "False\n",
      "True\n",
      "False\n"
     ]
    }
   ],
   "source": [
    "def can_travel_to(game_matrix, from_row, from_column, to_row, to_column):\n",
    "  \n",
    "    current_coord, target_coord = (from_row, from_column) , (to_row, to_column)\n",
    "    matrix_width, matrix_height = len(game_matrix),len(game_matrix[0])\n",
    "    moving_hor,moving_ver = False, False\n",
    "\n",
    "\n",
    "    \n",
    "    if current_coord[1] == target_coord[1]: moving_ver = True\n",
    "    elif current_coord[0] == target_coord[0]: moving_hor = True\n",
    "    \n",
    "    # 가려는곳이 육지인 경우   \n",
    "    if game_matrix[target_coord[0]][target_coord[1]] == False:\n",
    "      return False\n",
    "    \n",
    "    if  0 <= target_coord[0] < matrix_height and 0 <= target_coord[1] < matrix_width :\n",
    "      pass\n",
    "    else:\n",
    "      return False\n",
    "    \n",
    "    if moving_ver:\n",
    "      # 아래로 이동\n",
    "      if current_coord[0] > target_coord[0]:\n",
    "        # 중간에 육지가 있는지 확인\n",
    "        if game_matrix[current_coord[0]-1][current_coord[1]] == False: return False\n",
    "      #위로 이동\n",
    "      else:\n",
    "        if game_matrix[current_coord[0]+1][current_coord[1]] == False: return False\n",
    "    \n",
    "    if moving_hor:\n",
    "      # 왼쪽으로 이동\n",
    "      if current_coord[1] > target_coord[1]:\n",
    "        if game_matrix[current_coord[0]][current_coord[1]-1] == False: return False\n",
    "      #오른쪽으로 이동\n",
    "      else:\n",
    "        if game_matrix[current_coord[0]][current_coord[1]+1] == False: return False\n",
    "    \n",
    "    return True\n",
    "      \n",
    "    \n",
    "\n",
    "if __name__ == \"__main__\":\n",
    "    game_matrix = [\n",
    "        [False, False, True, True, False],\n",
    "        [False, False, True, False, False],\n",
    "        [False, False, True, True, False],\n",
    "        [False, True, False, True, False],\n",
    "        [False, False, True, False, False]\n",
    "    ]\n",
    "\n",
    "    print(can_travel_to(game_matrix, 2, 2, 0, 2))\n",
    "    print(can_travel_to(game_matrix, 2, 2, 2, 1))\n",
    "    print(can_travel_to(game_matrix, 2, 2, 2, 3))\n",
    "    print(can_travel_to(game_matrix, 2, 2, 4, 2))"
   ]
  },
  {
   "cell_type": "code",
   "execution_count": null,
   "metadata": {},
   "outputs": [],
   "source": []
  }
 ],
 "metadata": {
  "kernelspec": {
   "display_name": "dev",
   "language": "python",
   "name": "python3"
  },
  "language_info": {
   "codemirror_mode": {
    "name": "ipython",
    "version": 3
   },
   "file_extension": ".py",
   "mimetype": "text/x-python",
   "name": "python",
   "nbconvert_exporter": "python",
   "pygments_lexer": "ipython3",
   "version": "3.1.0"
  }
 },
 "nbformat": 4,
 "nbformat_minor": 2
}
