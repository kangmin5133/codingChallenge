{
 "cells": [
  {
   "cell_type": "code",
   "execution_count": 4,
   "metadata": {},
   "outputs": [
    {
     "name": "stdout",
     "output_type": "stream",
     "text": [
      "[0, 1, 2, 3, 6, 7, 8, 23, 34]\n"
     ]
    },
    {
     "data": {
      "text/plain": [
       "4"
      ]
     },
     "execution_count": 4,
     "metadata": {},
     "output_type": "execute_result"
    }
   ],
   "source": [
    "def binary_search(target, data):\n",
    "    data.sort()\n",
    "    print(data)\n",
    "    start = 0 \t\t\t# 맨 처음 위치\n",
    "    end = len(data) - 1 \t# 맨 마지막 위치\n",
    "\n",
    "    while start <= end:\n",
    "        mid = (start + end) // 2 # 중간값\n",
    "\n",
    "        if data[mid] == target:\n",
    "            return mid \t\t# target 위치 반환\n",
    "\n",
    "        elif data[mid] > target: # target이 작으면 왼쪽을 더 탐색\n",
    "            end = mid - 1\n",
    "        else:                    # target이 크면 오른쪽을 더 탐색\n",
    "            start = mid + 1\n",
    "    return -1\n",
    "\n",
    "arr = [1,6,7,3,0,8,23,34,2]\n",
    "target = 6\n",
    "binary_search(target=target,data=arr)"
   ]
  },
  {
   "cell_type": "code",
   "execution_count": 7,
   "metadata": {},
   "outputs": [
    {
     "data": {
      "text/plain": [
       "[0, 1, 2, 3, 6, 7, 8, 23, 34]"
      ]
     },
     "execution_count": 7,
     "metadata": {},
     "output_type": "execute_result"
    }
   ],
   "source": [
    "def bubble_sort(arr):\n",
    "    end = len(arr) - 1\n",
    "    while end > 0:\n",
    "        last_swap = 0\n",
    "        for i in range(end):\n",
    "            if arr[i] > arr[i + 1]:\n",
    "                arr[i], arr[i + 1] = arr[i + 1], arr[i]\n",
    "                last_swap = i\n",
    "        end = last_swap\n",
    "    return arr\n",
    "\n",
    "arr = [1,6,7,3,0,8,23,34,2]\n",
    "bubble_sort(arr=arr)"
   ]
  },
  {
   "cell_type": "code",
   "execution_count": 25,
   "metadata": {},
   "outputs": [
    {
     "name": "stdout",
     "output_type": "stream",
     "text": [
      "[1, 1, 2, 3, 6, 8, 10]\n"
     ]
    }
   ],
   "source": [
    "def quicksort(arr):\n",
    "    if len(arr) <= 1:\n",
    "        return arr\n",
    "    \n",
    "    pivot = arr[len(arr) // 2]  # 중앙 값을 피벗으로 선택\n",
    "    left = [x for x in arr if x < pivot]\n",
    "    middle = [x for x in arr if x == pivot]\n",
    "    right = [x for x in arr if x > pivot]\n",
    "    \n",
    "    return quicksort(left) + middle + quicksort(right)\n",
    "\n",
    "# 예시\n",
    "arr = [3, 6, 8, 10, 1, 2, 1]\n",
    "print(quicksort(arr))"
   ]
  },
  {
   "cell_type": "code",
   "execution_count": 26,
   "metadata": {},
   "outputs": [
    {
     "name": "stdout",
     "output_type": "stream",
     "text": [
      "[1, 2, 3, 4, 5, 6, 10, 12]\n"
     ]
    }
   ],
   "source": [
    "def insertion_sort(arr):\n",
    "    for i in range(1, len(arr)):\n",
    "        key = arr[i]\n",
    "        j = i - 1\n",
    "        # 현재 요소를 그 이전의 요소들과 비교하며 올바른 위치를 찾아 삽입\n",
    "        while j >= 0 and key < arr[j]:\n",
    "            arr[j + 1] = arr[j]\n",
    "            j -= 1\n",
    "        arr[j + 1] = key\n",
    "    return arr\n",
    "\n",
    "# 예시\n",
    "arr = [4, 3, 2, 10, 12, 1, 5, 6]\n",
    "print(insertion_sort(arr))"
   ]
  },
  {
   "cell_type": "code",
   "execution_count": 17,
   "metadata": {},
   "outputs": [
    {
     "name": "stdout",
     "output_type": "stream",
     "text": [
      "15\n"
     ]
    }
   ],
   "source": [
    "def selfadd(init,n,total):\n",
    "    if init == n:\n",
    "        return total\n",
    "    else:\n",
    "        init +=1\n",
    "        total = total + init\n",
    "        return selfadd(init,n,total)\n",
    "\n",
    "def solution(n):\n",
    "    init =0\n",
    "    total = 0\n",
    "    return selfadd(init,n,total)\n",
    "\n",
    "print(solution(5))"
   ]
  },
  {
   "cell_type": "code",
   "execution_count": 18,
   "metadata": {},
   "outputs": [
    {
     "name": "stdout",
     "output_type": "stream",
     "text": [
      "7\n"
     ]
    }
   ],
   "source": [
    "from collections import deque\n",
    "\n",
    "def bfs_shortest_path(grid):\n",
    "    if not grid or not grid[0]:\n",
    "        return -1\n",
    "\n",
    "    n, m = len(grid), len(grid[0])\n",
    "    if grid[0][0] == 1 or grid[n-1][m-1] == 1:\n",
    "        return -1  # 시작점이나 끝점이 막혀 있으면 바로 -1 반환\n",
    "\n",
    "    directions = [(1, 0), (0, 1), (-1, 0), (0, -1)]  # 이동 가능한 방향 (상, 하, 좌, 우)\n",
    "    queue = deque([(0, 0, 1)])  # 시작점 좌표와 이동 거리를 함께 큐에 추가\n",
    "    grid[0][0] = 1  # 시작점을 방문했다고 표시\n",
    "\n",
    "    while queue:\n",
    "        x, y, dist = queue.popleft()\n",
    "\n",
    "        if x == n-1 and y == m-1:  # 도착점에 도달했으면 현재 거리 반환\n",
    "            return dist\n",
    "\n",
    "        for dx, dy in directions:\n",
    "            nx, ny = x + dx, y + dy\n",
    "\n",
    "            # 이동 가능한 새 위치가 그리드 범위 안에 있고, 아직 방문하지 않았다면\n",
    "            if 0 <= nx < n and 0 <= ny < m and grid[nx][ny] == 0:\n",
    "                queue.append((nx, ny, dist + 1))\n",
    "                grid[nx][ny] = 1  # 새 위치를 방문했다고 표시\n",
    "\n",
    "    return -1  # 도착점에 도달할 수 없으면 -1 반환\n",
    "\n",
    "# 예시 입력\n",
    "grid = [\n",
    "    [0, 0, 1, 0, 0],\n",
    "    [1, 0, 0, 0, 1],\n",
    "    [0, 0, 0, 0, 0]\n",
    "]\n",
    "\n",
    "print(bfs_shortest_path(grid))"
   ]
  },
  {
   "cell_type": "code",
   "execution_count": 22,
   "metadata": {},
   "outputs": [
    {
     "name": "stdout",
     "output_type": "stream",
     "text": [
      "[True, True, False, False, False]\n",
      "[False, True, False, False, False]\n",
      "[False, False, False, False, False]\n",
      "[False, False, False, False, False]\n",
      "[False, False, False, False, False]\n"
     ]
    }
   ],
   "source": [
    "def dfs_grid(grid, x, y, visited):\n",
    "    # 범위를 벗어나거나, 방문했거나, 조건을 만족하지 않는 경우\n",
    "    if x < 0 or x >= len(grid) or y < 0 or y >= len(grid[0]) or visited[x][y] or grid[x][y] != 1:\n",
    "        return\n",
    "    \n",
    "    visited[x][y] = True  # 현재 셀 방문 처리\n",
    "    \n",
    "    # 상, 하, 좌, 우 방향 탐색\n",
    "    dfs_grid(grid, x+1, y, visited)\n",
    "    dfs_grid(grid, x-1, y, visited)\n",
    "    dfs_grid(grid, x, y+1, visited)\n",
    "    dfs_grid(grid, x, y-1, visited)\n",
    "\n",
    "# 2차원 배열 예시\n",
    "grid = [\n",
    "    [1, 1, 0, 0, 0],\n",
    "    [0, 1, 0, 0, 1],\n",
    "    [1, 0, 0, 1, 1],\n",
    "    [0, 0, 0, 0, 0],\n",
    "    [1, 0, 1, 0, 1]\n",
    "]\n",
    "visited = [[False for _ in range(len(grid[0]))] for _ in range(len(grid))]\n",
    "dfs_grid(grid, 0, 0, visited)  # (0, 0)에서 시작하는 DFS 실행\n",
    "\n",
    "for row in visited:\n",
    "    print(row)"
   ]
  },
  {
   "cell_type": "code",
   "execution_count": 20,
   "metadata": {},
   "outputs": [
    {
     "name": "stdout",
     "output_type": "stream",
     "text": [
      "0 1 3 4 2 "
     ]
    }
   ],
   "source": [
    "def dfs_graph(graph, node, visited):\n",
    "    if visited[node]:\n",
    "        return\n",
    "    \n",
    "    visited[node] = True  # 현재 노드 방문 처리\n",
    "    print(node, end=' ')  # 방문한 노드 출력 (예시를 위함)\n",
    "    \n",
    "    # 현재 노드와 연결된 모든 노드에 대해 DFS 탐색\n",
    "    for neighbor in graph[node]:\n",
    "        dfs_graph(graph, neighbor, visited)\n",
    "\n",
    "# 그래프 예시 (인접 리스트)\n",
    "graph = {\n",
    "    0: [1, 2],\n",
    "    1: [0, 3, 4],\n",
    "    2: [0, 4],\n",
    "    3: [1],\n",
    "    4: [1, 2]\n",
    "}\n",
    "visited = {i: False for i in graph}  # 모든 노드를 방문하지 않은 상태로 초기화\n",
    "dfs_graph(graph, 0, visited)  # 노드 0에서 시작하는 DFS 실행"
   ]
  },
  {
   "cell_type": "code",
   "execution_count": 21,
   "metadata": {},
   "outputs": [
    {
     "name": "stdout",
     "output_type": "stream",
     "text": [
      "[-1, -1, 0, 0, 0]\n",
      "[0, -1, 0, 0, -1]\n",
      "[-1, 0, 0, -1, -1]\n",
      "[0, 0, 0, 0, 0]\n",
      "[-1, 0, -1, 0, -1]\n"
     ]
    }
   ],
   "source": [
    "def dfs_grid(grid, x, y):\n",
    "    if x < 0 or y < 0 or x >= len(grid) or y >= len(grid[0]) or grid[x][y] != 1:\n",
    "        return  # 범위를 벗어나거나 조건을 만족하지 않으면 종료\n",
    "    \n",
    "    grid[x][y] = -1  # 현재 위치를 방문 처리\n",
    "    \n",
    "    # 상, 하, 좌, 우, 대각선 방향 탐색\n",
    "    directions = [(-1, 0), (1, 0), (0, -1), (0, 1), (-1, -1), (-1, 1), (1, -1), (1, 1)]\n",
    "    for dx, dy in directions:\n",
    "        dfs_grid(grid, x + dx, y + dy)  # 재귀적으로 탐색\n",
    "\n",
    "# 2차원 배열 예시\n",
    "grid = [\n",
    "    [1, 1, 0, 0, 0],\n",
    "    [0, 1, 0, 0, 1],\n",
    "    [1, 0, 0, 1, 1],\n",
    "    [0, 0, 0, 0, 0],\n",
    "    [1, 0, 1, 0, 1]\n",
    "]\n",
    "\n",
    "# 모든 위치에 대해 DFS 실행\n",
    "for i in range(len(grid)):\n",
    "    for j in range(len(grid[0])):\n",
    "        if grid[i][j] == 1:  # 조건을 만족하는 경우에만 DFS 실행\n",
    "            dfs_grid(grid, i, j)\n",
    "\n",
    "# 탐색 후의 grid 상태 확인 (방문 처리된 영역 확인)\n",
    "for row in grid:\n",
    "    print(row)\n"
   ]
  },
  {
   "cell_type": "code",
   "execution_count": 23,
   "metadata": {},
   "outputs": [
    {
     "name": "stdout",
     "output_type": "stream",
     "text": [
      "Total solutions for 4 Queens: 2\n"
     ]
    }
   ],
   "source": [
    "def is_safe(row, col, board, n):\n",
    "    # 현재 열과 대각선에 퀸이 있는지 확인\n",
    "    for i in range(row):\n",
    "        if board[i] == col or abs(board[i] - col) == row - i:\n",
    "            return False\n",
    "    return True\n",
    "\n",
    "def solve_n_queens(row, board, n, results):\n",
    "    if row == n:\n",
    "        results.append(board[:])\n",
    "        return\n",
    "    \n",
    "    for col in range(n):\n",
    "        if is_safe(row, col, board, n):\n",
    "            board[row] = col\n",
    "            solve_n_queens(row + 1, board, n, results)\n",
    "            board[row] = -1  # 백트래킹\n",
    "\n",
    "n = 4\n",
    "results = []\n",
    "board = [-1] * n\n",
    "solve_n_queens(0, board, n, results)\n",
    "print(f\"Total solutions for {n} Queens: {len(results)}\")\n"
   ]
  },
  {
   "cell_type": "code",
   "execution_count": 24,
   "metadata": {},
   "outputs": [
    {
     "name": "stdout",
     "output_type": "stream",
     "text": [
      "[1, 2, 3]\n",
      "[1, 3, 2]\n",
      "[2, 1, 3]\n",
      "[2, 3, 1]\n",
      "[3, 2, 1]\n",
      "[3, 1, 2]\n"
     ]
    }
   ],
   "source": [
    "def permute(nums):\n",
    "    def backtrack(start, end):\n",
    "        if start == end:\n",
    "            result.append(nums[:])  # 현재 순열 추가\n",
    "        else:\n",
    "            for i in range(start, end):\n",
    "                nums[start], nums[i] = nums[i], nums[start]  # 스왑\n",
    "                backtrack(start + 1, end)  # 다음 요소로 넘어가 순열 생성\n",
    "                nums[start], nums[i] = nums[i], nums[start]  # 원래대로 복구(백트래킹)\n",
    "\n",
    "    result = []\n",
    "    backtrack(0, len(nums))\n",
    "    return result\n",
    "\n",
    "# 순열을 생성할 리스트\n",
    "nums = [1, 2, 3]\n",
    "# 순열 생성\n",
    "permutations = permute(nums)\n",
    "\n",
    "# 결과 출력\n",
    "for perm in permutations:\n",
    "    print(perm)"
   ]
  },
  {
   "cell_type": "code",
   "execution_count": 29,
   "metadata": {},
   "outputs": [],
   "source": [
    "class ListNode:\n",
    "    def __init__(self, val=0, next=None):\n",
    "        self.val = val\n",
    "        self.next = next\n",
    "a = ListNode()\n",
    "\n",
    "# ListNode{\n",
    "#     val: 2, \n",
    "#     next: ListNode\n",
    "#     {\n",
    "#         val: 3, \n",
    "#         next: ListNode\n",
    "#         {\n",
    "#             val: 4, \n",
    "#             next: ListNode\n",
    "#             {\n",
    "#                 val: 5, \n",
    "#                 next: None\n",
    "#             }\n",
    "#         }\n",
    "#     }\n",
    "# }\n"
   ]
  },
  {
   "cell_type": "code",
   "execution_count": 227,
   "metadata": {},
   "outputs": [
    {
     "name": "stdout",
     "output_type": "stream",
     "text": [
      "11\n"
     ]
    }
   ],
   "source": [
    "head = ListNode(1)\n",
    "\n",
    "curr_node = head\n",
    "\n",
    "new_node = ListNode(3)\n",
    "curr_node.next = new_node\n",
    "curr_node=curr_node.next\n",
    "\n",
    "new_node = ListNode(5)\n",
    "curr_node.next = new_node\n",
    "curr_node=curr_node.next\n",
    "\n",
    "curr_node.next = ListNode(7)\n",
    "curr_node=curr_node.next\n",
    "\n",
    "curr_node.next = ListNode(9)\n",
    "curr_node=curr_node.next\n",
    "\n",
    "curr_node.next = ListNode(11)\n",
    "curr_node=curr_node.next\n",
    "\n",
    "print(curr_node.val)"
   ]
  },
  {
   "cell_type": "code",
   "execution_count": 228,
   "metadata": {},
   "outputs": [
    {
     "name": "stdout",
     "output_type": "stream",
     "text": [
      "10\n"
     ]
    }
   ],
   "source": [
    "head2 = ListNode(2)\n",
    "\n",
    "curr_node2 = head2\n",
    "\n",
    "new_node = ListNode(4)\n",
    "curr_node2.next = new_node\n",
    "curr_node2=curr_node2.next\n",
    "\n",
    "new_node = ListNode(6)\n",
    "curr_node2.next = new_node\n",
    "curr_node2=curr_node2.next\n",
    "\n",
    "curr_node2.next = ListNode(8)\n",
    "curr_node2=curr_node2.next\n",
    "\n",
    "curr_node2.next = ListNode(10)\n",
    "curr_node2=curr_node2.next\n",
    "\n",
    "print(curr_node2.val)"
   ]
  },
  {
   "cell_type": "code",
   "execution_count": 229,
   "metadata": {},
   "outputs": [
    {
     "name": "stdout",
     "output_type": "stream",
     "text": [
      "1\n",
      "3\n",
      "5\n",
      "7\n",
      "9\n",
      "11\n",
      "----------\n",
      "2\n",
      "4\n",
      "6\n",
      "8\n",
      "10\n"
     ]
    }
   ],
   "source": [
    "node=head\n",
    "\n",
    "while node:\n",
    "    print(node.val)\n",
    "    node=node.next\n",
    "print(\"----------\")\n",
    "node2=head2\n",
    "while node2:\n",
    "    print(node2.val)\n",
    "    node2=node2.next"
   ]
  },
  {
   "cell_type": "code",
   "execution_count": 230,
   "metadata": {},
   "outputs": [
    {
     "ename": "KeyboardInterrupt",
     "evalue": "",
     "output_type": "error",
     "traceback": [
      "\u001b[0;31m---------------------------------------------------------------------------\u001b[0m",
      "\u001b[0;31mKeyboardInterrupt\u001b[0m                         Traceback (most recent call last)",
      "Cell \u001b[0;32mIn[230], line 4\u001b[0m\n\u001b[1;32m      1\u001b[0m long_node\u001b[38;5;241m=\u001b[39mhead\n\u001b[1;32m      2\u001b[0m short_node\u001b[38;5;241m=\u001b[39mhead2\n\u001b[0;32m----> 4\u001b[0m \u001b[38;5;28;01mwhile\u001b[39;00m short_node\u001b[38;5;241m.\u001b[39mnext:\n\u001b[1;32m      5\u001b[0m     \u001b[38;5;28;01mif\u001b[39;00m short_node\u001b[38;5;241m.\u001b[39mval \u001b[38;5;241m<\u001b[39m\u001b[38;5;241m=\u001b[39m long_node\u001b[38;5;241m.\u001b[39mval:\n\u001b[1;32m      6\u001b[0m         short_node\u001b[38;5;241m.\u001b[39mnext \u001b[38;5;241m=\u001b[39m long_node\n",
      "\u001b[0;31mKeyboardInterrupt\u001b[0m: "
     ]
    }
   ],
   "source": [
    "long_node=head\n",
    "short_node=head2\n",
    "\n",
    "while short_node.next:\n",
    "    if short_node.val <= long_node.val:\n",
    "        short_node.next = long_node\n",
    "    if short_node.val >= long_node.val:\n",
    "        temp = None\n",
    "        temp = long_node.val\n",
    "        long_node.val = short_node.val\n",
    "        short_node.val = temp\n",
    "\n",
    "    short_node = short_node.next\n",
    "    long_node =  long_node.next\n",
    "\n",
    "# short_node.next = long_node\n",
    "    "
   ]
  },
  {
   "cell_type": "code",
   "execution_count": 225,
   "metadata": {},
   "outputs": [
    {
     "name": "stdout",
     "output_type": "stream",
     "text": [
      "2\n",
      "4\n",
      "6\n",
      "8\n",
      "10\n",
      "9\n",
      "11\n"
     ]
    }
   ],
   "source": [
    "new_node = head2\n",
    "while new_node:\n",
    "    print(new_node.val)\n",
    "    new_node = new_node.next"
   ]
  },
  {
   "cell_type": "code",
   "execution_count": 86,
   "metadata": {},
   "outputs": [
    {
     "data": {
      "text/plain": [
       "6"
      ]
     },
     "execution_count": 86,
     "metadata": {},
     "output_type": "execute_result"
    }
   ],
   "source": [
    "length = 0\n",
    "node=head\n",
    "while node:\n",
    "    length +=1\n",
    "    node=node.next\n",
    "length"
   ]
  },
  {
   "cell_type": "code",
   "execution_count": 88,
   "metadata": {},
   "outputs": [
    {
     "name": "stdout",
     "output_type": "stream",
     "text": [
      "1\n",
      "2\n",
      "3\n",
      "4\n",
      "5\n",
      "6\n"
     ]
    }
   ],
   "source": [
    "node=head\n",
    "while node:\n",
    "    print(node.val)\n",
    "    node=node.next"
   ]
  },
  {
   "cell_type": "code",
   "execution_count": 82,
   "metadata": {},
   "outputs": [
    {
     "data": {
      "text/plain": [
       "4"
      ]
     },
     "execution_count": 82,
     "metadata": {},
     "output_type": "execute_result"
    }
   ],
   "source": [
    "int(length/2)+1"
   ]
  },
  {
   "cell_type": "code",
   "execution_count": 84,
   "metadata": {},
   "outputs": [],
   "source": [
    "from typing import Optional\n",
    "class Solution:\n",
    "    def middleNode(self, head: Optional[ListNode]) -> Optional[ListNode]:\n",
    "        list_idx_val = [] \n",
    "        node_cnt = 0\n",
    "        middle = 0\n",
    "        node = head\n",
    "        while node:\n",
    "            node_cnt +=1\n",
    "            new_dict = {\"idx\":node_cnt,\"val\":node.val} \n",
    "            list_idx_val.append(new_dict)\n",
    "            node = node.next\n",
    "            \n",
    "        length = len(list_idx_val)\n",
    "        if length % 2 == 0: \n",
    "            middle = int(length/2)\n",
    "        else :\n",
    "            middle = int(length/2+0.5)-1\n",
    "\n",
    "        node = head\n",
    "        while node.next:\n",
    "            node = node.next\n",
    "            if node.val not in [list_idx_val[index][\"val\"] for index in range(length) if index <= middle]:\n",
    "                break\n",
    "        return node"
   ]
  },
  {
   "cell_type": "code",
   "execution_count": 89,
   "metadata": {},
   "outputs": [
    {
     "data": {
      "text/plain": [
       "50"
      ]
     },
     "execution_count": 89,
     "metadata": {},
     "output_type": "execute_result"
    }
   ],
   "source": [
    "head = [12,86,47,6,23,6,11,30,16,81,62,32,80,61,66,41,8,88,5,98,77,54,24,60,52,32,99,84,81,66,1,25,31,27,70,90,19,54,50,6,72,32,69,88,18,10,75,40,22,97]\n",
    "len(head)"
   ]
  },
  {
   "cell_type": "code",
   "execution_count": 90,
   "metadata": {},
   "outputs": [
    {
     "data": {
      "text/plain": [
       "25"
      ]
     },
     "execution_count": 90,
     "metadata": {},
     "output_type": "execute_result"
    }
   ],
   "source": [
    "length = len(head)\n",
    "if length % 2 == 0: \n",
    "    middle = int(length/2)\n",
    "middle"
   ]
  },
  {
   "cell_type": "code",
   "execution_count": 91,
   "metadata": {},
   "outputs": [
    {
     "data": {
      "text/plain": [
       "32"
      ]
     },
     "execution_count": 91,
     "metadata": {},
     "output_type": "execute_result"
    }
   ],
   "source": [
    "head[middle]"
   ]
  },
  {
   "cell_type": "code",
   "execution_count": 92,
   "metadata": {},
   "outputs": [],
   "source": [
    "class Solution:\n",
    "    def middleNode(self, head: Optional[ListNode]) -> Optional[ListNode]:\n",
    "        if head is None or head.next is None:\n",
    "            return head\n",
    "        slow = head\n",
    "        fast = head\n",
    "        while fast and fast.next:\n",
    "            slow = slow.next\n",
    "            fast = fast.next.next\n",
    "        return slow\n"
   ]
  },
  {
   "cell_type": "code",
   "execution_count": 96,
   "metadata": {},
   "outputs": [
    {
     "data": {
      "text/plain": [
       "1"
      ]
     },
     "execution_count": 96,
     "metadata": {},
     "output_type": "execute_result"
    }
   ],
   "source": [
    "( 9 // 2 ) // 2 // 2"
   ]
  },
  {
   "cell_type": "code",
   "execution_count": 103,
   "metadata": {},
   "outputs": [
    {
     "ename": "ValueError",
     "evalue": "list.remove(x): x not in list",
     "output_type": "error",
     "traceback": [
      "\u001b[0;31m---------------------------------------------------------------------------\u001b[0m",
      "\u001b[0;31mValueError\u001b[0m                                Traceback (most recent call last)",
      "Cell \u001b[0;32mIn[103], line 2\u001b[0m\n\u001b[1;32m      1\u001b[0m d \u001b[38;5;241m=\u001b[39m [\u001b[38;5;241m2\u001b[39m,\u001b[38;5;241m3\u001b[39m,\u001b[38;5;241m4\u001b[39m,\u001b[38;5;241m5\u001b[39m]\n\u001b[0;32m----> 2\u001b[0m \u001b[43md\u001b[49m\u001b[38;5;241;43m.\u001b[39;49m\u001b[43mremove\u001b[49m\u001b[43m(\u001b[49m\u001b[38;5;241;43m7\u001b[39;49m\u001b[43m)\u001b[49m\n",
      "\u001b[0;31mValueError\u001b[0m: list.remove(x): x not in list"
     ]
    }
   ],
   "source": [
    "d = [2,3,4,5]\n",
    "d.remove(7)"
   ]
  },
  {
   "cell_type": "code",
   "execution_count": 102,
   "metadata": {},
   "outputs": [
    {
     "data": {
      "text/plain": [
       "[2, 4, 5]"
      ]
     },
     "execution_count": 102,
     "metadata": {},
     "output_type": "execute_result"
    }
   ],
   "source": [
    "d"
   ]
  },
  {
   "cell_type": "code",
   "execution_count": 106,
   "metadata": {},
   "outputs": [
    {
     "data": {
      "text/plain": [
       "1"
      ]
     },
     "execution_count": 106,
     "metadata": {},
     "output_type": "execute_result"
    }
   ],
   "source": [
    "[2,6,6,5].index(6)"
   ]
  },
  {
   "cell_type": "code",
   "execution_count": 118,
   "metadata": {},
   "outputs": [
    {
     "name": "stdout",
     "output_type": "stream",
     "text": [
      "[0, 1]\n"
     ]
    }
   ],
   "source": [
    "from typing import List\n",
    "\n",
    "def twoSum(nums: List[int], target: int) -> List[int]:\n",
    "    hashmap = {}\n",
    "    for i, num in enumerate(nums):\n",
    "        remain = target - num\n",
    "        if remain in hashmap:\n",
    "            return [hashmap[remain],i]\n",
    "        hashmap[num] = i\n",
    "\n",
    "# 예시\n",
    "nums = [3,3]\n",
    "target = 6\n",
    "print(twoSum(nums, target))  # 출력: [1, 2]"
   ]
  },
  {
   "cell_type": "code",
   "execution_count": 119,
   "metadata": {},
   "outputs": [
    {
     "name": "stdout",
     "output_type": "stream",
     "text": [
      "a\n",
      "b\n",
      "c\n"
     ]
    }
   ],
   "source": [
    "for i in \"abc\": print(i)"
   ]
  },
  {
   "cell_type": "code",
   "execution_count": 120,
   "metadata": {},
   "outputs": [
    {
     "data": {
      "text/plain": [
       "'abc'"
      ]
     },
     "execution_count": 120,
     "metadata": {},
     "output_type": "execute_result"
    }
   ],
   "source": [
    "\"\".join([\"a\",\"b\",\"c\"])"
   ]
  },
  {
   "cell_type": "code",
   "execution_count": 129,
   "metadata": {},
   "outputs": [
    {
     "data": {
      "text/plain": [
       "'ihgfec'"
      ]
     },
     "execution_count": 129,
     "metadata": {},
     "output_type": "execute_result"
    }
   ],
   "source": [
    "\"abcefghijklmnop\"[7:1:-1]"
   ]
  },
  {
   "cell_type": "code",
   "execution_count": 135,
   "metadata": {},
   "outputs": [
    {
     "name": "stdout",
     "output_type": "stream",
     "text": [
      "[1000, 500, 100, 10, 100, 5]\n"
     ]
    }
   ],
   "source": [
    "symbols = {\n",
    "            \"I\":1,\n",
    "            \"V\":5,\n",
    "            \"X\":10,\n",
    "            \"L\":50,\n",
    "            \"C\":100,\n",
    "            \"D\":500,\n",
    "            \"M\":1000\n",
    "        }\n",
    "splited=[]\n",
    "total_sum = 0\n",
    "for i in \"MDCXCV\": \n",
    "    splited.append(symbols[i])\n",
    "\n",
    "print(splited)"
   ]
  },
  {
   "cell_type": "code",
   "execution_count": 142,
   "metadata": {},
   "outputs": [
    {
     "name": "stdout",
     "output_type": "stream",
     "text": [
      "1 6\n",
      "2 6\n",
      "3 6\n",
      "4 6\n",
      "5 6\n"
     ]
    },
    {
     "data": {
      "text/plain": [
       "[1000, 500, 100, 90, 5]"
      ]
     },
     "execution_count": 142,
     "metadata": {},
     "output_type": "execute_result"
    }
   ],
   "source": [
    "new_sum= []\n",
    "visited=None\n",
    "for i in range(1,len(splited)):\n",
    "    print(i, len(splited))\n",
    "    if splited[i-1] < splited[i]:\n",
    "        new_sum.append(splited[i] - splited[i-1])\n",
    "        visited=i\n",
    "    elif splited[i-1] >= splited[i] and i-1 != visited:\n",
    "        new_sum.append(splited[i-1])\n",
    "        \n",
    "    if i == len(splited)-1:new_sum.append(splited[i])\n",
    "new_sum\n"
   ]
  },
  {
   "cell_type": "code",
   "execution_count": 143,
   "metadata": {},
   "outputs": [
    {
     "data": {
      "text/plain": [
       "'flow'"
      ]
     },
     "execution_count": 143,
     "metadata": {},
     "output_type": "execute_result"
    }
   ],
   "source": [
    "min([\"flower\",\"flow\",\"flight\"], key=len)"
   ]
  },
  {
   "cell_type": "code",
   "execution_count": 147,
   "metadata": {},
   "outputs": [
    {
     "name": "stdout",
     "output_type": "stream",
     "text": [
      "f\n",
      "fl\n"
     ]
    },
    {
     "data": {
      "text/plain": [
       "['f', 'fl']"
      ]
     },
     "execution_count": 147,
     "metadata": {},
     "output_type": "execute_result"
    }
   ],
   "source": [
    "strs = [\"reflower\",\"flow\",\"flight\"]\n",
    "shortest_word=min(strs, key=len)\n",
    "comb_list = []\n",
    "for i,comb in enumerate(shortest_word):\n",
    "    comb_list.append(shortest_word[:i+1])\n",
    "\n",
    "common_prefixes = []\n",
    "for comb in comb_list:\n",
    "    # print(comb)\n",
    "    if all(comb in s for s in strs):\n",
    "        print(comb)\n",
    "        common_prefixes.append(comb)\n",
    "\n",
    "common_prefixes"
   ]
  },
  {
   "cell_type": "code",
   "execution_count": 148,
   "metadata": {},
   "outputs": [
    {
     "name": "stdout",
     "output_type": "stream",
     "text": [
      "(\n",
      ")\n"
     ]
    }
   ],
   "source": [
    "for i in \"()\":print(i)"
   ]
  },
  {
   "cell_type": "code",
   "execution_count": 170,
   "metadata": {},
   "outputs": [
    {
     "name": "stdout",
     "output_type": "stream",
     "text": [
      "1\n"
     ]
    }
   ],
   "source": [
    "valid_symbols = {\n",
    "            \"(\":\")\",\n",
    "            \"{\":\"}\",\n",
    "            \"[\":\"]\"\n",
    "        }\n",
    "if \"{\" in valid_symbols:\n",
    "    print(1)"
   ]
  },
  {
   "cell_type": "code",
   "execution_count": 171,
   "metadata": {},
   "outputs": [
    {
     "data": {
      "text/plain": [
       "dict_values([')', '}', ']'])"
      ]
     },
     "execution_count": 171,
     "metadata": {},
     "output_type": "execute_result"
    }
   ],
   "source": [
    "valid_symbols.values()"
   ]
  },
  {
   "cell_type": "code",
   "execution_count": 162,
   "metadata": {},
   "outputs": [
    {
     "name": "stdout",
     "output_type": "stream",
     "text": [
      "a\n",
      "b\n",
      "c\n",
      "d\n",
      "e\n",
      "f\n"
     ]
    }
   ],
   "source": [
    "for i in range(len(\"abcdef\")):\n",
    "    print(\"abcdef\"[i])"
   ]
  },
  {
   "cell_type": "code",
   "execution_count": 175,
   "metadata": {},
   "outputs": [
    {
     "ename": "TypeError",
     "evalue": "dict.values() takes no arguments (1 given)",
     "output_type": "error",
     "traceback": [
      "\u001b[0;31m---------------------------------------------------------------------------\u001b[0m",
      "\u001b[0;31mTypeError\u001b[0m                                 Traceback (most recent call last)",
      "Cell \u001b[0;32mIn[175], line 1\u001b[0m\n\u001b[0;32m----> 1\u001b[0m \u001b[43mvalid_symbols\u001b[49m\u001b[38;5;241;43m.\u001b[39;49m\u001b[43mvalues\u001b[49m\u001b[43m(\u001b[49m\u001b[38;5;124;43m\"\u001b[39;49m\u001b[38;5;124;43m)\u001b[39;49m\u001b[38;5;124;43m\"\u001b[39;49m\u001b[43m)\u001b[49m\n",
      "\u001b[0;31mTypeError\u001b[0m: dict.values() takes no arguments (1 given)"
     ]
    }
   ],
   "source": [
    "valid_symbols.values(\"\")"
   ]
  },
  {
   "cell_type": "code",
   "execution_count": 180,
   "metadata": {},
   "outputs": [
    {
     "data": {
      "text/plain": [
       "'{'"
      ]
     },
     "execution_count": 180,
     "metadata": {},
     "output_type": "execute_result"
    }
   ],
   "source": [
    "[k for k, v in valid_symbols.items() if v == '}'][0]"
   ]
  },
  {
   "cell_type": "code",
   "execution_count": 177,
   "metadata": {},
   "outputs": [
    {
     "data": {
      "text/plain": [
       "4"
      ]
     },
     "execution_count": 177,
     "metadata": {},
     "output_type": "execute_result"
    }
   ],
   "source": [
    "st = [1,2,3,4]\n",
    "st.pop()"
   ]
  },
  {
   "cell_type": "code",
   "execution_count": 178,
   "metadata": {},
   "outputs": [
    {
     "data": {
      "text/plain": [
       "[1, 2, 3]"
      ]
     },
     "execution_count": 178,
     "metadata": {},
     "output_type": "execute_result"
    }
   ],
   "source": [
    "st"
   ]
  },
  {
   "cell_type": "code",
   "execution_count": null,
   "metadata": {},
   "outputs": [],
   "source": []
  }
 ],
 "metadata": {
  "kernelspec": {
   "display_name": "dev",
   "language": "python",
   "name": "python3"
  },
  "language_info": {
   "codemirror_mode": {
    "name": "ipython",
    "version": 3
   },
   "file_extension": ".py",
   "mimetype": "text/x-python",
   "name": "python",
   "nbconvert_exporter": "python",
   "pygments_lexer": "ipython3",
   "version": "3.11.5"
  }
 },
 "nbformat": 4,
 "nbformat_minor": 2
}
