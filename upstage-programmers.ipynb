{
 "cells": [
  {
   "cell_type": "code",
   "execution_count": 2,
   "metadata": {},
   "outputs": [
    {
     "data": {
      "text/plain": [
       "[True, True, True]"
      ]
     },
     "execution_count": 2,
     "metadata": {},
     "output_type": "execute_result"
    }
   ],
   "source": [
    "def solution(P):\n",
    "    if len(P) < 2:  # 데이터가 1개일 때는 다음 달의 크기를 알 수 없음\n",
    "        return -1\n",
    "    if P[-1] > P[-2]:  # 달이 커지고 있는 상황\n",
    "        if P[-1] == 15:  # 보름달일 때 다음 날은 작아짐\n",
    "            return 0\n",
    "        else:  # 그 외에는 계속 커짐\n",
    "            return 1\n",
    "    else:  # 달이 작아지고 있는 상황\n",
    "        if P[-1] == 0:  # 그믐달일 때 다음 날은 커짐\n",
    "            return 1\n",
    "        else:  # 그 외에는 계속 작아짐\n",
    "            return 0\n",
    "\n",
    "# 입출력 예시 테스트\n",
    "test_cases = [\n",
    "    ([3, 4, 5], 1),\n",
    "    ([14, 13], 0),\n",
    "    ([6],-1)\n",
    "]\n",
    "\n",
    "# 테스트 케이스로 함수를 실행하여 정답 확인\n",
    "results = [solution(tc[0]) == tc[1] for tc in test_cases]\n",
    "results"
   ]
  },
  {
   "cell_type": "code",
   "execution_count": 4,
   "metadata": {},
   "outputs": [
    {
     "data": {
      "text/plain": [
       "[True, True]"
      ]
     },
     "execution_count": 4,
     "metadata": {},
     "output_type": "execute_result"
    }
   ],
   "source": [
    "def solution(k):\n",
    "    total = 0\n",
    "    n = 0\n",
    "    # 군의 크기를 증가시키면서 k번째 항을 찾는다\n",
    "    while total < k:\n",
    "        n += 1\n",
    "        total += n  # n번째 군에는 n개의 항이 있으므로\n",
    "    \n",
    "    # k번째 항이 속한 군을 찾았으면, 그 군에서 k번째 항의 위치를 찾는다\n",
    "    # total에서 n을 빼면 이전 군까지의 총 항의 수\n",
    "    # k에서 이 값을 빼면 현재 군에서 몇 번째에 위치하는지 알 수 있다\n",
    "    return k - (total - n)\n",
    "\n",
    "# 입출력 예시 테스트\n",
    "test_cases = [\n",
    "    (4, 1),\n",
    "    (10, 4)\n",
    "]\n",
    "\n",
    "# 테스트 케이스로 함수를 실행하여 정답 확인\n",
    "results = [solution(tc[0]) == tc[1] for tc in test_cases]\n",
    "results"
   ]
  },
  {
   "cell_type": "code",
   "execution_count": 7,
   "metadata": {},
   "outputs": [
    {
     "data": {
      "text/plain": [
       "[False, True]"
      ]
     },
     "execution_count": 7,
     "metadata": {},
     "output_type": "execute_result"
    }
   ],
   "source": [
    "def is_same_tree(t1, t2, i1, i2):\n",
    "    # 두 노드 모두 끝에 도달한 경우\n",
    "    if i1 == -1 and i2 == -1:\n",
    "        return True\n",
    "    # 한쪽만 끝에 도달한 경우 또는 인덱스가 범위를 벗어난 경우\n",
    "    if i1 == -1 or i2 == -1 or i1 >= len(t1) or i2 >= len(t2):\n",
    "        return False\n",
    "    # 두 노드의 자식이 일치하는지 확인\n",
    "    return (is_same_tree(t1, t2, t1[i1][0], t2[i2][0]) and \n",
    "            is_same_tree(t1, t2, t1[i1][1], t2[i2][1]))\n",
    "\n",
    "def count_matches(t1, t2, i1, i2):\n",
    "    count = 0\n",
    "    if i1 == -1 or i1 >= len(t1):\n",
    "        return 0\n",
    "    # 현재 노드에서 시작하는 부분 트리가 t2와 동일한지 확인\n",
    "    if is_same_tree(t1, t2, i1, i2):\n",
    "        count += 1\n",
    "    # 왼쪽, 오른쪽 자식 노드로 이동하면서 계속 확인\n",
    "    count += count_matches(t1, t2, t1[i1][0], i2)\n",
    "    count += count_matches(t1, t2, t1[i1][1], i2)\n",
    "    return count\n",
    "\n",
    "def solution(t1, t2):\n",
    "    return count_matches(t1, t2, 0, 0)\n",
    "\n",
    "# 수정된 입출력 예시 테스트\n",
    "t1_1 = [[1, 2], [3, 4], [5, 6], [-1, 7], [8, 9], [-1, -1], [-1, -1], [-1, -1], [-1, -1]]\n",
    "t2_1 = [[1, 2], [-1, -1], [-1, -1]]\n",
    "t1_2 = [[1, 2], [3, 4], [5, 6], [-1, 7], [8, 9], [-1, -1], [-1, -1], [-1, -1], [-1, -1], [-1, -1]]\n",
    "t2_2 = [[-1, 1], [-1, -1]]\n",
    "\n",
    "test_cases = [\n",
    "    (t1_1, t2_1, 2),\n",
    "    (t1_2, t2_2, 1)\n",
    "]\n",
    "\n",
    "# 테스트 케이스로 함수를 실행하여 정답 확인\n",
    "results = [solution(tc[0], tc[1]) == tc[2] for tc in test_cases]\n",
    "results"
   ]
  },
  {
   "cell_type": "code",
   "execution_count": 8,
   "metadata": {},
   "outputs": [
    {
     "data": {
      "text/plain": [
       "[True, True]"
      ]
     },
     "execution_count": 8,
     "metadata": {},
     "output_type": "execute_result"
    }
   ],
   "source": [
    "def solution(n):\n",
    "    # 팩토리얼 꼬리의 길이를 찾기 위해 5의 배수를 카운트합니다.\n",
    "    count = 0\n",
    "    while n >= 5:\n",
    "        n //= 5\n",
    "        count += n\n",
    "    return count\n",
    "\n",
    "# 입출력 예시 테스트\n",
    "test_cases = [\n",
    "    (5, 1),\n",
    "    (10, 2)\n",
    "]\n",
    "\n",
    "# 테스트 케이스로 함수를 실행하여 정답 확인\n",
    "results = [solution(tc[0]) == tc[1] for tc in test_cases]\n",
    "results\n"
   ]
  },
  {
   "cell_type": "code",
   "execution_count": 9,
   "metadata": {},
   "outputs": [
    {
     "data": {
      "text/plain": [
       "[True, True, True]"
      ]
     },
     "execution_count": 9,
     "metadata": {},
     "output_type": "execute_result"
    }
   ],
   "source": [
    "from itertools import combinations\n",
    "\n",
    "def solution(table):\n",
    "    n = len(table[0])  # 항목의 개수\n",
    "    products = range(len(table))  # 상품의 인덱스 리스트\n",
    "    \n",
    "    # 모든 상품 조합을 생성하고, 각 조합으로 모든 항목을 커버할 수 있는지 확인\n",
    "    for r in range(1, len(table) + 1):\n",
    "        for combo in combinations(products, r):\n",
    "            coverage = ['X'] * n  # 항목 커버 여부 초기화\n",
    "            for idx in combo:\n",
    "                for i, cover in enumerate(table[idx]):\n",
    "                    if cover == 'O':\n",
    "                        coverage[i] = 'O'  # 해당 항목 커버\n",
    "            # 모든 항목이 커버되는지 확인\n",
    "            if all(c == 'O' for c in coverage):\n",
    "                return len(combo)  # 최소 상품 개수 반환\n",
    "\n",
    "# 입출력 예시 테스트\n",
    "test_cases = [\n",
    "    ([\"XOXO\",\"OXXO\",\"XXOX\",\"XOOO\"], 2),\n",
    "    ([\"OXXO\",\"XOXO\",\"XXOO\"], 3),\n",
    "    ([\"OXOXO\",\"OOOOO\",\"XOXOX\"], 1)\n",
    "]\n",
    "\n",
    "# 테스트 케이스로 함수를 실행하여 정답 확인\n",
    "results = [solution(tc[0]) == tc[1] for tc in test_cases]\n",
    "results"
   ]
  },
  {
   "cell_type": "code",
   "execution_count": 10,
   "metadata": {},
   "outputs": [
    {
     "data": {
      "text/plain": [
       "[True, True]"
      ]
     },
     "execution_count": 10,
     "metadata": {},
     "output_type": "execute_result"
    }
   ],
   "source": [
    "def solution(next_student):\n",
    "    n = len(next_student)\n",
    "    max_circulation, winner = 0, 0\n",
    "    \n",
    "    # 각 학생별로 카드가 회람되는 횟수를 계산\n",
    "    for i in range(1, n + 1):\n",
    "        visited = [False] * (n + 1)\n",
    "        next_st = i\n",
    "        count = 0\n",
    "        \n",
    "        while next_st != 0 and not visited[next_st]:\n",
    "            visited[next_st] = True\n",
    "            next_st = next_student[next_st - 1]\n",
    "            count += 1\n",
    "        \n",
    "        # 최대 회람 횟수 업데이트\n",
    "        if count >= max_circulation:\n",
    "            max_circulation = count\n",
    "            winner = i\n",
    "    \n",
    "    return winner\n",
    "\n",
    "# 입출력 예시 테스트\n",
    "test_cases = [\n",
    "    ([5, 9, 13, 1, 0, 0, 11, 1, 7, 12, 9, 9, 2], 3),\n",
    "    ([6, 10, 8, 5, 8, 10, 5, 1, 6, 7], 9)\n",
    "]\n",
    "\n",
    "# 테스트 케이스로 함수를 실행하여 정답 확인\n",
    "results = [solution(tc[0]) == tc[1] for tc in test_cases]\n",
    "results"
   ]
  },
  {
   "cell_type": "code",
   "execution_count": 13,
   "metadata": {},
   "outputs": [
    {
     "name": "stdout",
     "output_type": "stream",
     "text": [
      "0\n",
      "7\n"
     ]
    }
   ],
   "source": [
    "def solution(n):\n",
    "    answer = 0\n",
    "    exp = 0\n",
    "    while n > 0:\n",
    "        n -= 1\n",
    "        answer += (3 ** exp) * (n % 3)\n",
    "        n //= 3\n",
    "        exp += 1\n",
    "    return answer\n",
    "\n",
    "# 다시 테스트 해보자\n",
    "print(solution(4))  # 이제 9가 나와야 해\n",
    "print(solution(11))  # 이제 31이 나와야 해"
   ]
  },
  {
   "cell_type": "code",
   "execution_count": 15,
   "metadata": {},
   "outputs": [
    {
     "data": {
      "text/plain": [
       "'\\n문제 설명\\n3의 거듭 제곱수는 3을 b번 곱한 수를 의미하며 3^b 형태로 표현합니다. 3^0(3의0제곱) = 1이 성립하며, 3^1(3의 1제곱) = 3, 3^2(3의 2제곱)= 9, 3^3(3의 3제곱)= 27, 3^4(3의 4제곱)= 81....모두 거듭 제곱수 입니다.\\n3의 거듭 제곱수를 임의로 더하여 거듭 제곱수 사이에 들어가는 수를 만들 수 있습니다. 예를 들어, \\n• 4=1+3\\n• 31=27(27은 3의 세제곱)+3+1\\n입니다.\\n\\n이때, 같은 거듭 제곱수를 2번 이상 더할 수는 없습니다. 이러한 규칙으로 만들어낼 수 있는 수와 3의 거듭 제곱수를 합쳐서 순서대로 배치하면 1,3,4,9,10,...이 됩니다. 이렇게 배치한 숫자의 n번째 숫자가 무엇인지를 알려주는 함수 solution 을 완성해주세요.\\n제한사항\\n•n은 1<=n<=10^10(10의10제곱) 인 자연수\\n\\n입출력 예\\nn // result\\n4 // 9\\n11 // 31\\n\\n입 출력 예 설명\\n\\n1,3,4,9...로 4번째 숫자는 9\\n1,3,4,9,10,12,13,27,28,30,31.....로 11번째 숫자는 31\\n\\ndef solution(n):\\n'"
      ]
     },
     "execution_count": 15,
     "metadata": {},
     "output_type": "execute_result"
    }
   ],
   "source": [
    "\"\"\"\n",
    "문제 설명\n",
    "3의 거듭 제곱수는 3을 b번 곱한 수를 의미하며 3^b 형태로 표현합니다. 3^0(3의0제곱) = 1이 성립하며, 3^1(3의 1제곱) = 3, 3^2(3의 2제곱)= 9, 3^3(3의 3제곱)= 27, 3^4(3의 4제곱)= 81....모두 거듭 제곱수 입니다.\n",
    "3의 거듭 제곱수를 임의로 더하여 거듭 제곱수 사이에 들어가는 수를 만들 수 있습니다. 예를 들어, \n",
    "• 4=1+3\n",
    "• 31=27(27은 3의 세제곱)+3+1\n",
    "입니다.\n",
    "\n",
    "이때, 같은 거듭 제곱수를 2번 이상 더할 수는 없습니다. 이러한 규칙으로 만들어낼 수 있는 수와 3의 거듭 제곱수를 합쳐서 순서대로 배치하면 1,3,4,9,10,...이 됩니다. 이렇게 배치한 숫자의 n번째 숫자가 무엇인지를 알려주는 함수 solution 을 완성해주세요.\n",
    "제한사항\n",
    "•n은 1<=n<=10^10(10의10제곱) 인 자연수\n",
    "\n",
    "입출력 예\n",
    "n // result\n",
    "4 // 9\n",
    "11 // 31\n",
    "\n",
    "입 출력 예 설명\n",
    "\n",
    "1,3,4,9...로 4번째 숫자는 9\n",
    "1,3,4,9,10,12,13,27,28,30,31.....로 11번째 숫자는 31\n",
    "\n",
    "def solution(n):\n",
    "\"\"\""
   ]
  },
  {
   "cell_type": "code",
   "execution_count": null,
   "metadata": {},
   "outputs": [],
   "source": []
  },
  {
   "cell_type": "code",
   "execution_count": 2,
   "metadata": {},
   "outputs": [
    {
     "name": "stdout",
     "output_type": "stream",
     "text": [
      "9\n",
      "31\n"
     ]
    }
   ],
   "source": [
    "def solution(n):\n",
    "    # 3의 거듭제곱수들을 저장할 리스트\n",
    "    powers_of_three = [3**i for i in range(20)]  # 3^0 부터 3^19까지 (10^10 이하 범위 충족)\n",
    "    \n",
    "    # 가능한 모든 숫자의 조합을 저장할 세트 (중복 제거)\n",
    "    numbers = set()\n",
    "    \n",
    "    # 가능한 모든 숫자의 조합 생성\n",
    "    def generate_numbers(current_sum, index):\n",
    "        if index == len(powers_of_three):\n",
    "            return\n",
    "        # 현재 합에 다음 3의 거듭제곱수를 더하거나 더하지 않는 경우 모두 고려\n",
    "        numbers.add(current_sum + powers_of_three[index])\n",
    "        generate_numbers(current_sum + powers_of_three[index], index + 1)\n",
    "        generate_numbers(current_sum, index + 1)\n",
    "    \n",
    "    # 숫자 조합 생성 시작\n",
    "    generate_numbers(0, 0)\n",
    "    \n",
    "    # 생성된 숫자들을 오름차순으로 정렬\n",
    "    sorted_numbers = sorted(list(numbers))\n",
    "    \n",
    "    # n번째 숫자 반환\n",
    "    return sorted_numbers[n-1]\n",
    "\n",
    "# 테스트\n",
    "print(solution(4))  # 예상 결과: 9\n",
    "print(solution(11)) # 예상 결과: 31"
   ]
  },
  {
   "cell_type": "code",
   "execution_count": null,
   "metadata": {},
   "outputs": [],
   "source": []
  }
 ],
 "metadata": {
  "kernelspec": {
   "display_name": "dev",
   "language": "python",
   "name": "python3"
  },
  "language_info": {
   "codemirror_mode": {
    "name": "ipython",
    "version": 3
   },
   "file_extension": ".py",
   "mimetype": "text/x-python",
   "name": "python",
   "nbconvert_exporter": "python",
   "pygments_lexer": "ipython3",
   "version": "3.1.0"
  }
 },
 "nbformat": 4,
 "nbformat_minor": 2
}
