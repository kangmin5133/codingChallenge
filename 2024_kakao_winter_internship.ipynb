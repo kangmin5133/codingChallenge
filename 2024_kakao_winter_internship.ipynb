{
 "cells": [
  {
   "cell_type": "markdown",
   "metadata": {},
   "source": [
    "### [2024 KAKAO WINTER INTERNSHIP] / 가장 많이 받은 선물"
   ]
  },
  {
   "cell_type": "code",
   "execution_count": 1,
   "metadata": {},
   "outputs": [],
   "source": [
    "def get_gift_ex(detail_dict):\n",
    "    ex_dict = {}\n",
    "    for name in detail_dict.keys():\n",
    "        send_total = sum(detail_dict[name][\"send\"].values())\n",
    "        receive_total = sum(detail_dict[name][\"received\"].values())\n",
    "        ex_dict[name] = send_total - receive_total\n",
    "    return ex_dict\n",
    "\n",
    "def solution(friends, gifts):\n",
    "    detail_dict= {}\n",
    "    next_month_gifts = {}\n",
    "    for name in friends:\n",
    "        dict_without_current_name = {}\n",
    "        copied_list = friends.copy()\n",
    "        copied_list.remove(name)\n",
    "        for rest_names in copied_list: dict_without_current_name[rest_names] = 0\n",
    "        detail_dict[name]={\"send\":dict_without_current_name.copy(),\"received\":dict_without_current_name.copy()}\n",
    "    \n",
    "    for gift in gifts:\n",
    "        sender, receiver = gift.split(\" \")\n",
    "        detail_dict[sender][\"send\"][receiver] +=1\n",
    "        detail_dict[receiver][\"received\"][sender] +=1\n",
    "    \n",
    "    next_month_gifts = {}\n",
    "    for name in friends:\n",
    "        next_month_gifts[name] = 0\n",
    "        \n",
    "    gift_ex = get_gift_ex(detail_dict)\n",
    "    \n",
    "    for sender_name in detail_dict.keys():\n",
    "        for receiver_name in detail_dict[sender_name][\"send\"].keys():\n",
    "            if detail_dict[sender_name][\"send\"][receiver_name] > detail_dict[sender_name][\"received\"][receiver_name]:\n",
    "                next_month_gifts[sender_name] +=1\n",
    "            elif detail_dict[sender_name][\"send\"][receiver_name] == detail_dict[sender_name][\"received\"][receiver_name]:\n",
    "                if gift_ex[sender_name] > gift_ex[receiver_name] : next_month_gifts[sender_name] += 1\n",
    "    answer = max(next_month_gifts.values())\n",
    "    return answer"
   ]
  },
  {
   "cell_type": "markdown",
   "metadata": {},
   "source": [
    "### [2024 KAKAO WINTER INTERNSHIP] / 도넛과 막대 그래프"
   ]
  },
  {
   "cell_type": "code",
   "execution_count": 14,
   "metadata": {},
   "outputs": [
    {
     "name": "stdout",
     "output_type": "stream",
     "text": [
      "defaultdict(<class 'int'>, {2: 2, 4: 1, 1: 1})\n",
      "defaultdict(<class 'int'>, {3: 2, 1: 2})\n",
      "3\n",
      "range :  range(1, 4)\n",
      "False\n",
      "defaultdict(<class 'int'>, {4: 3, 1: 1, 8: 1, 12: 1, 7: 1, 9: 1, 10: 1, 6: 1, 3: 2, 11: 2, 5: 1})\n",
      "defaultdict(<class 'int'>, {11: 3, 12: 1, 3: 2, 7: 1, 2: 1, 8: 2, 6: 1, 10: 1, 5: 1, 1: 1, 9: 1})\n",
      "11\n",
      "range :  range(1, 12)\n",
      "False\n"
     ]
    },
    {
     "data": {
      "text/plain": [
       "([2, 1, 1, 0], [4, 0, 1, 0])"
      ]
     },
     "execution_count": 14,
     "metadata": {},
     "output_type": "execute_result"
    }
   ],
   "source": [
    "def solution(edges):\n",
    "    from collections import defaultdict, deque\n",
    "\n",
    "    # Initialize dictionaries to store in-degrees and out-degrees of vertices\n",
    "    in_degree = defaultdict(int)\n",
    "    out_degree = defaultdict(int)\n",
    "    graph_dict = defaultdict(list)\n",
    "\n",
    "    # Populate in-degree and out-degree dictionaries\n",
    "    for a, b in edges:\n",
    "        out_degree[a] += 1\n",
    "        in_degree[b] += 1\n",
    "        graph_dict[a].append(b)\n",
    "\n",
    "    print(out_degree)\n",
    "    print(in_degree)\n",
    "\n",
    "    # Find the created vertex (which will have out-degrees to all other vertices)\n",
    "    created_vertex = max(out_degree, key=lambda k: out_degree[k])\n",
    "\n",
    "    # Find the created vertex (which will have out-degrees to all other vertices)\n",
    "    last_vertex = max(in_degree, key=lambda k: in_degree[k])\n",
    "    print(last_vertex)\n",
    "    # Initialize counts for different types of graphs\n",
    "    doughnut_count = bar_count = figure_eight_count = 0\n",
    "\n",
    "    for a, b in edges:\n",
    "        if a == b :  doughnut_count +=1\n",
    "    print(\"range : \",range(1, last_vertex + 1))\n",
    "    # Identify each graph by its pattern of in-degrees and out-degrees\n",
    "    visited = set()\n",
    "    for vertex in range(1, last_vertex + 1):\n",
    "        if vertex not in visited:\n",
    "            if in_degree[vertex] == 0:\n",
    "                # This is a new graph, perform BFS to identify its type\n",
    "                queue = deque([vertex])\n",
    "                current_graph = set()\n",
    "                has_cycle = False\n",
    "                while queue:\n",
    "                    current = queue.popleft()\n",
    "                    if current in visited:\n",
    "                        # Found a cycle\n",
    "                        has_cycle = True\n",
    "                        break\n",
    "                    visited.add(current)\n",
    "                    current_graph.add(current)\n",
    "                    for neighbor in graph_dict[current]:\n",
    "                        if in_degree[neighbor] == out_degree[neighbor]:\n",
    "                            # Neighbor is part of a doughnut graph\n",
    "                            queue.append(neighbor)\n",
    "                print(has_cycle)\n",
    "                if has_cycle:\n",
    "                    # Check for figure eight graph (two cycles sharing a vertex)\n",
    "                    shared_vertices = [v for v in current_graph if in_degree[v] > 1]\n",
    "                    if len(shared_vertices) == 1:\n",
    "                        figure_eight_count += 1\n",
    "                    else:\n",
    "                        doughnut_count += 1\n",
    "                else:\n",
    "                    # This is a bar graph\n",
    "                    bar_count += 1\n",
    "\n",
    "    return [created_vertex, doughnut_count, bar_count, figure_eight_count]\n",
    "\n",
    "# Example usage:\n",
    "edges_example_1 = [[2, 3], [4, 3], [1, 1], [2, 1]]\n",
    "edges_example_2 = [[4, 11], [1, 12], [8, 3], [12, 7], [4, 2], [7, 11], [4, 8], [9, 6], [10, 11], [6, 10], [3, 5], [11, 1], [5, 3], [11, 9], [3, 8]]\n",
    "\n",
    "# Test the corrected function with the provided examples\n",
    "result_1_corrected = solution(edges_example_1) #[2,1,1,0]\n",
    "result_2_corrected = solution(edges_example_2) #[4,0,1,2]\n",
    "\n",
    "result_1_corrected, result_2_corrected\n"
   ]
  },
  {
   "cell_type": "code",
   "execution_count": null,
   "metadata": {},
   "outputs": [],
   "source": []
  }
 ],
 "metadata": {
  "kernelspec": {
   "display_name": "dev",
   "language": "python",
   "name": "python3"
  },
  "language_info": {
   "codemirror_mode": {
    "name": "ipython",
    "version": 3
   },
   "file_extension": ".py",
   "mimetype": "text/x-python",
   "name": "python",
   "nbconvert_exporter": "python",
   "pygments_lexer": "ipython3",
   "version": "3.1.0"
  }
 },
 "nbformat": 4,
 "nbformat_minor": 2
}
