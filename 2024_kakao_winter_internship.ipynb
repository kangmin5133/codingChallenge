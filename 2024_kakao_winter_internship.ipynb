{
 "cells": [
  {
   "cell_type": "markdown",
   "metadata": {},
   "source": [
    "### [2024 KAKAO WINTER INTERNSHIP] / 가장 많이 받은 선물"
   ]
  },
  {
   "cell_type": "code",
   "execution_count": null,
   "metadata": {},
   "outputs": [],
   "source": [
    "def get_gift_ex(detail_dict):\n",
    "    ex_dict = {}\n",
    "    for name in detail_dict.keys():\n",
    "        send_total = sum(detail_dict[name][\"send\"].values())\n",
    "        receive_total = sum(detail_dict[name][\"received\"].values())\n",
    "        ex_dict[name] = send_total - receive_total\n",
    "    return ex_dict\n",
    "\n",
    "def solution(friends, gifts):\n",
    "    detail_dict= {}\n",
    "    next_month_gifts = {}\n",
    "    for name in friends:\n",
    "        dict_without_current_name = {}\n",
    "        copied_list = friends.copy()\n",
    "        copied_list.remove(name)\n",
    "        for rest_names in copied_list: dict_without_current_name[rest_names] = 0\n",
    "        detail_dict[name]={\"send\":dict_without_current_name.copy(),\"received\":dict_without_current_name.copy()}\n",
    "    \n",
    "    for gift in gifts:\n",
    "        sender, receiver = gift.split(\" \")\n",
    "        detail_dict[sender][\"send\"][receiver] +=1\n",
    "        detail_dict[receiver][\"received\"][sender] +=1\n",
    "    \n",
    "    next_month_gifts = {}\n",
    "    for name in friends:\n",
    "        next_month_gifts[name] = 0\n",
    "        \n",
    "    gift_ex = get_gift_ex(detail_dict)\n",
    "    \n",
    "    for sender_name in detail_dict.keys():\n",
    "        for receiver_name in detail_dict[sender_name][\"send\"].keys():\n",
    "            if detail_dict[sender_name][\"send\"][receiver_name] > detail_dict[sender_name][\"received\"][receiver_name]:\n",
    "                next_month_gifts[sender_name] +=1\n",
    "            elif detail_dict[sender_name][\"send\"][receiver_name] == detail_dict[sender_name][\"received\"][receiver_name]:\n",
    "                if gift_ex[sender_name] > gift_ex[receiver_name] : next_month_gifts[sender_name] += 1\n",
    "    answer = max(next_month_gifts.values())\n",
    "    return answer"
   ]
  }
 ],
 "metadata": {
  "kernelspec": {
   "display_name": "dev",
   "language": "python",
   "name": "python3"
  },
  "language_info": {
   "codemirror_mode": {
    "name": "ipython",
    "version": 3
   },
   "file_extension": ".py",
   "mimetype": "text/x-python",
   "name": "python",
   "nbconvert_exporter": "python",
   "pygments_lexer": "ipython3",
   "version": "3.11.5"
  }
 },
 "nbformat": 4,
 "nbformat_minor": 2
}
